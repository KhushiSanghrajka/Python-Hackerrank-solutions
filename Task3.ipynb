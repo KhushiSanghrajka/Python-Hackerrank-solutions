{
  "nbformat": 4,
  "nbformat_minor": 0,
  "metadata": {
    "colab": {
      "provenance": []
    },
    "kernelspec": {
      "name": "python3",
      "display_name": "Python 3"
    },
    "language_info": {
      "name": "python"
    }
  },
  "cells": [
    {
      "cell_type": "code",
      "execution_count": null,
      "metadata": {
        "id": "bdCSr6hzUeyu"
      },
      "outputs": [],
      "source": [
        "import cmath\n",
        "z = complex(input())\n",
        "print(abs(z))\n",
        "print(cmath.phase(z))"
      ]
    },
    {
      "cell_type": "code",
      "source": [
        "import math\n",
        "AB = int(input())\n",
        "BC = int(input())\n",
        "\n",
        "M = math.sqrt((AB)**2+(BC)**2)\n",
        "theta = math.acos((BC)/M)\n",
        "\n",
        "# printing the angle\n",
        "print(int(round(math.degrees(theta),0)),'\\u00B0', sep='')"
      ],
      "metadata": {
        "colab": {
          "base_uri": "https://localhost:8080/"
        },
        "id": "ApzKHzlrUnDC",
        "outputId": "d8ce1198-4f00-404d-e1cc-d1e15817c4b3"
      },
      "execution_count": 2,
      "outputs": [
        {
          "output_type": "stream",
          "name": "stdout",
          "text": [
            "10\n",
            "10\n",
            "45°\n"
          ]
        }
      ]
    },
    {
      "cell_type": "code",
      "source": [
        "for i in range(1,int(input())+1):  \n",
        "    print((10 ** i - 1) ** 2 // 81)"
      ],
      "metadata": {
        "id": "ulowia64YakU"
      },
      "execution_count": null,
      "outputs": []
    },
    {
      "cell_type": "code",
      "source": [
        "# Enter your code here. Read input from STDIN. Print output to STDOUT\n",
        "a= int(input())\n",
        "b= int(input())\n",
        "print(a//b)\n",
        "print(a%b)\n",
        "print(divmod(a,b))"
      ],
      "metadata": {
        "id": "-tFW8i5IYbHd"
      },
      "execution_count": null,
      "outputs": []
    },
    {
      "cell_type": "code",
      "source": [
        "a= int(input())\n",
        "b= int(input())\n",
        "m= int(input())\n",
        "print(pow(a,b))\n",
        "print(pow(a,b,m))"
      ],
      "metadata": {
        "id": "7EuIIl85iHls"
      },
      "execution_count": null,
      "outputs": []
    },
    {
      "cell_type": "code",
      "source": [
        "a= int(input())\n",
        "b= int(input())\n",
        "c= int(input())\n",
        "d= int(input())\n",
        "res = pow(a,b)+pow(c,d)\n",
        "print(res)"
      ],
      "metadata": {
        "id": "ctvWpdP9jC6i"
      },
      "execution_count": null,
      "outputs": []
    },
    {
      "cell_type": "code",
      "source": [
        "for i in range(1,int(input())):\n",
        "    print((pow(10,i)//9)*i)"
      ],
      "metadata": {
        "id": "ZBXAOxr_kQ9B"
      },
      "execution_count": null,
      "outputs": []
    }
  ]
}