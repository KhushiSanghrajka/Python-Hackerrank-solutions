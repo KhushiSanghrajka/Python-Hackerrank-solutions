{
  "nbformat": 4,
  "nbformat_minor": 0,
  "metadata": {
    "colab": {
      "provenance": []
    },
    "kernelspec": {
      "name": "python3",
      "display_name": "Python 3"
    },
    "language_info": {
      "name": "python"
    }
  },
  "cells": [
    {
      "cell_type": "code",
      "source": [
        "if __name__ == '__main__':\n",
        "    x = int(input())\n",
        "    y = int(input())\n",
        "    z = int(input())\n",
        "    n = int(input())\n",
        "\n",
        "a=[]    \n",
        "for i in range(0,x+1):\n",
        "    for j in range(0, y+1):\n",
        "        for k in range(0, z+1):\n",
        "            if((i+j+k)!=n):\n",
        "                a.append([i,j,k])\n",
        "                \n",
        "print(a)"
      ],
      "metadata": {
        "id": "ucB9JGNxVEfU"
      },
      "execution_count": null,
      "outputs": []
    },
    {
      "cell_type": "code",
      "source": [
        "if __name__ == '__main__':\n",
        "    n = int(input())\n",
        "    #converting list to set to remove duplicates\n",
        "    arr = set(map(int, input().split()))\n",
        "    \n",
        "    arr.remove(max(arr))\n",
        "    print(max(arr))\n",
        "   "
      ],
      "metadata": {
        "id": "dl_sw-bXVYHR"
      },
      "execution_count": null,
      "outputs": []
    },
    {
      "cell_type": "code",
      "source": [
        "if __name__ == '__main__':\n",
        "    #initializing 2 lists\n",
        "    records=[]\n",
        "    score_list=[] \n",
        "for _ in range(int(input())):\n",
        "    name = input()\n",
        "    score = float(input())\n",
        "    records.append([name, score])\n",
        "    score_list.append(score)\n",
        "#sort based on name in alpha. order   \n",
        "records.sort(key= lambda x: x[0])\n",
        "\n",
        "s = set(score_list)\n",
        "s = sorted(s)\n",
        "\n",
        "for name, score in records:\n",
        "    if score == s[1]:#if obtained 2nd lowest score matches anything in reocrds, print that name\n",
        "        print(name)"
      ],
      "metadata": {
        "id": "dgPJWtROtGQ8"
      },
      "execution_count": null,
      "outputs": []
    },
    {
      "cell_type": "code",
      "source": [
        "if __name__ == '__main__':\n",
        "    n = int(input())\n",
        "    student_marks = {}\n",
        "    for _ in range(n):\n",
        "        name, *line = input().split()\n",
        "        scores = list(map(float, line))\n",
        "        student_marks[name] = scores\n",
        "    query_name = input()\n",
        "    \n",
        "        \n",
        "    for key in student_marks.keys():  \n",
        "        if (query_name == key):\n",
        "            avg = sum(student_marks[query_name])/3\n",
        "            print(\"%.2f\" %avg)"
      ],
      "metadata": {
        "id": "CtP6u9mz3wAb"
      },
      "execution_count": null,
      "outputs": []
    },
    {
      "cell_type": "code",
      "source": [
        "if __name__ == '__main__':\n",
        "    N = int(input())\n",
        "    l=[]\n",
        "for _ in range(N):\n",
        "    inp = input().split()\n",
        "    if 'insert' in inp:\n",
        "        l.insert(int(inp[1]), int(inp[2]))\n",
        "    if 'print' in inp:\n",
        "        print(l)\n",
        "    if 'remove' in inp:\n",
        "        l.remove(int(inp[1]))\n",
        "    if 'append' in inp:\n",
        "        l.append(int(inp[1]))\n",
        "    if 'sort' in inp:\n",
        "        l.sort()\n",
        "    if 'pop' in inp:\n",
        "        l.pop()\n",
        "    if 'reverse' in inp:\n",
        "        l.reverse()\n"
      ],
      "metadata": {
        "id": "gKfNHvC-it4u"
      },
      "execution_count": null,
      "outputs": []
    },
    {
      "cell_type": "code",
      "source": [
        "if __name__ == '__main__':\n",
        "    n = int(input())\n",
        "    list = map(int, input().split())\n",
        "    t =tuple(list)\n",
        "    print(hash(t))"
      ],
      "metadata": {
        "id": "EDfkoF7Qk-kM"
      },
      "execution_count": null,
      "outputs": []
    },
    {
      "cell_type": "code",
      "source": [
        "import numpy as np\n",
        "N = int(input())\n",
        "A = np.array([list(map(int,input().split())) for i in range(N)])\n",
        "B = np.array([list(map(int,input().split())) for i in range(N)])\n",
        "print (np.matmul(A,B))"
      ],
      "metadata": {
        "id": "oUksGcJymXZ8"
      },
      "execution_count": null,
      "outputs": []
    },
    {
      "cell_type": "code",
      "source": [
        "def average(array):\n",
        "    set1 = set(array)\n",
        "    return (sum(set1)/len(set1))\n",
        "\n",
        "if __name__ == '__main__':\n",
        "    n = int(input())\n",
        "    arr = list(map(int, input().split()))\n",
        "    result = average(arr)\n",
        "    print(result)"
      ],
      "metadata": {
        "id": "NOOk-vOloF-j"
      },
      "execution_count": null,
      "outputs": []
    },
    {
      "cell_type": "code",
      "source": [
        "input() \n",
        "a = set(map(int, input().split())) \n",
        "input() \n",
        "b = set(map(int, input().split())) \n",
        "c = sorted(a.symmetric_difference(b)) \n",
        "for i in c: \n",
        "    print(i)"
      ],
      "metadata": {
        "id": "k3x_p43kq6AL"
      },
      "execution_count": null,
      "outputs": []
    },
    {
      "cell_type": "code",
      "source": [
        "n, m = list(map(int, input().split()))\n",
        "arr = list(map(int, input().split()))\n",
        "A = set(map(int, input().split()))\n",
        "B = set(map(int, input().split()))\n",
        "ctr =0\n",
        "for x in arr:\n",
        "    if x in A:\n",
        "        ctr+=1\n",
        "    elif x in B:\n",
        "        ctr-=1\n",
        "print(ctr)"
      ],
      "metadata": {
        "id": "0hoTmYzk1IL_"
      },
      "execution_count": null,
      "outputs": []
    },
    {
      "cell_type": "code",
      "source": [
        "list = []\n",
        "for i in range(number):\n",
        "    data = input()\n",
        "    list.append(data)\n",
        "res = len(set(list))\n",
        "print(res)"
      ],
      "metadata": {
        "id": "LpXRvWX_3EC8"
      },
      "execution_count": null,
      "outputs": []
    },
    {
      "cell_type": "code",
      "source": [
        "n = int(input())\n",
        "s = set(map(int, input().split()))\n",
        "num_comm = int(input())\n",
        " \n",
        "for i in range(num_comm):\n",
        "    commands = list(map(str, input().split()))\n",
        "    if commands[0] == \"pop\":\n",
        "        s.pop()\n",
        "    elif commands[0] == \"remove\":\n",
        "        s.remove(int(commands[1]))\n",
        "    elif commands[0] == \"discard\":\n",
        "        s.discard(int(commands[1]))\n",
        "print(sum(s))"
      ],
      "metadata": {
        "id": "2zdT1Zld541F"
      },
      "execution_count": null,
      "outputs": []
    },
    {
      "cell_type": "code",
      "source": [
        "n = int(input())\n",
        "list_eng = input().split()\n",
        "A = set(list_eng)\n",
        "b =int(input())\n",
        "list_french = input().split()\n",
        "B = set(list_french)\n",
        "sum = (A.union(B))\n",
        "print(len(sum))"
      ],
      "metadata": {
        "id": "L4WeL3o77wuW"
      },
      "execution_count": null,
      "outputs": []
    },
    {
      "cell_type": "code",
      "source": [
        "n = int(input())\n",
        "list_eng = input().split()\n",
        "A = set(list_eng)\n",
        "b =int(input())\n",
        "list_french = input().split()\n",
        "B = set(list_french)\n",
        "sum = (A.intersection(B))\n",
        "print(len(sum))"
      ],
      "metadata": {
        "id": "Gcbv8s_Z79VG"
      },
      "execution_count": null,
      "outputs": []
    },
    {
      "cell_type": "code",
      "source": [
        "n = int(input())\n",
        "list_eng = input().split()\n",
        "A = set(list_eng)\n",
        "b =int(input())\n",
        "list_french = input().split()\n",
        "B = set(list_french)\n",
        "sum = (A.difference(B))\n",
        "print(len(sum))"
      ],
      "metadata": {
        "id": "6hg5S19m8KM5"
      },
      "execution_count": null,
      "outputs": []
    },
    {
      "cell_type": "code",
      "source": [
        "n = int(input())\n",
        "list_eng = input().split()\n",
        "A = set(list_eng)\n",
        "b =int(input())\n",
        "list_french = input().split()\n",
        "B = set(list_french)\n",
        "sum = (A.symmetric_difference(B))\n",
        "print(len(sum))"
      ],
      "metadata": {
        "id": "XkhPObv18bB5"
      },
      "execution_count": null,
      "outputs": []
    },
    {
      "cell_type": "code",
      "source": [
        "n = input()\n",
        "A = set(map(int, input().split()))\n",
        "N = int(input())\n",
        "\n",
        "for i in range(N):\n",
        "    k = input().split()\n",
        "    stor_temp = set(map(int, input().split()))\n",
        "    if k[0] == 'update':\n",
        "        A.update(stor_temp)\n",
        "    elif k[0] == 'intersection_update':\n",
        "        A.intersection_update(stor_temp)\n",
        "    elif k[0] == 'difference_update':\n",
        "        A.difference_update(stor_temp)\n",
        "    elif k[0] == 'symmetric_difference_update':\n",
        "        A.symmetric_difference_update(stor_temp)\n",
        "    else:\n",
        "        print(\"Incorrect parameters\")\n",
        "\n",
        "print(sum(A))"
      ],
      "metadata": {
        "id": "KWouIWYYCdXJ"
      },
      "execution_count": null,
      "outputs": []
    },
    {
      "cell_type": "code",
      "source": [
        "from collections import Counter\n",
        "\n",
        "input()\n",
        "print(Counter(input().split()).most_common()[-1][0])"
      ],
      "metadata": {
        "id": "kwHIoTDxEhLm"
      },
      "execution_count": null,
      "outputs": []
    },
    {
      "cell_type": "code",
      "source": [
        "n = int(input())\n",
        "for i in range(n):\n",
        "    numA = int(input())\n",
        "    A = set(map(int, input().split()))\n",
        "    numB = int(input())\n",
        "    B = set(map(int, input().split()))\n",
        "    print(A.issubset(B))"
      ],
      "metadata": {
        "id": "32xZxOkXG6iU"
      },
      "execution_count": null,
      "outputs": []
    },
    {
      "cell_type": "code",
      "source": [
        "setA = set(input().split())\n",
        "N = int(input())\n",
        "output = True\n",
        "\n",
        "for i in range(N):\n",
        "    setB = set(input().split())\n",
        "    if not setB.issubset(setA):\n",
        "        output = False\n",
        "    if len(setB) >= len(setA):\n",
        "        output = False\n",
        "print(output)"
      ],
      "metadata": {
        "id": "lhgIfBKUJLGx"
      },
      "execution_count": null,
      "outputs": []
    }
  ]
}