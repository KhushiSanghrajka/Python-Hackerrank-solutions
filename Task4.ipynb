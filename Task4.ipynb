{
  "nbformat": 4,
  "nbformat_minor": 0,
  "metadata": {
    "colab": {
      "provenance": []
    },
    "kernelspec": {
      "name": "python3",
      "display_name": "Python 3"
    },
    "language_info": {
      "name": "python"
    }
  },
  "cells": [
    {
      "cell_type": "code",
      "source": [
        "def swap_case(s):\n",
        "    result=\"\" \n",
        "    for char in s: \n",
        "        if(char.islower()):\n",
        "            result= result + char.upper()\n",
        "        else:\n",
        "            result= result + char.lower()  \n",
        "    return result      \n",
        "\n",
        "if __name__ == '__main__':\n",
        "    s = input()\n",
        "    result = swap_case(s)\n",
        "    print(result)"
      ],
      "metadata": {
        "id": "VRAlFce-Jt3M"
      },
      "execution_count": null,
      "outputs": []
    },
    {
      "cell_type": "code",
      "source": [
        "def split_and_join(line):\n",
        "    a= line.split(\" \")\n",
        "    b = \"-\".join(a)\n",
        "    return b\n",
        "    \n",
        "\n",
        "if __name__ == '__main__':\n",
        "    line = input()\n",
        "    result = split_and_join(line)\n",
        "    print(result)"
      ],
      "metadata": {
        "id": "xtdMTdR7KT9w"
      },
      "execution_count": null,
      "outputs": []
    },
    {
      "cell_type": "code",
      "source": [
        "def count_substring(string, sub_string):\n",
        "    n= len(string)\n",
        "    ctr = 0\n",
        "    for i in range(n):\n",
        "        if string[i: i+len(sub_string)] == sub_string:\n",
        "            ctr += 1\n",
        "    return ctr\n",
        "\n",
        "if __name__ == '__main__':\n",
        "    string = input().strip()\n",
        "    sub_string = input().strip()\n",
        "    \n",
        "    count = count_substring(string, sub_string)\n",
        "    print(count)"
      ],
      "metadata": {
        "id": "HmvBeHLdLgtm"
      },
      "execution_count": null,
      "outputs": []
    },
    {
      "cell_type": "code",
      "execution_count": null,
      "metadata": {
        "id": "YFkD3lNpr9HT"
      },
      "outputs": [],
      "source": [
        "def print_full_name(first, last):\n",
        "    print(\"Hello \"+ first_name+\" \"+ last_name+\"! You just delved into python.\")\n",
        "\n",
        "if __name__ == '__main__':\n",
        "    first_name = input()\n",
        "    last_name = input()\n",
        "    print_full_name(first_name, last_name)"
      ]
    },
    {
      "cell_type": "code",
      "source": [
        "def mutate_string(string, position, character):\n",
        "    l = list(string)\n",
        "    l[position] = character\n",
        "    return(\"\".join(l))\n",
        "\n",
        "if __name__ == '__main__':\n",
        "    s = input()\n",
        "    i, c = input().split()\n",
        "    s_new = mutate_string(s, int(i), c)\n",
        "    print(s_new)"
      ],
      "metadata": {
        "id": "tSqzzTikuN6X"
      },
      "execution_count": null,
      "outputs": []
    },
    {
      "cell_type": "code",
      "source": [
        "if __name__ == '__main__':\n",
        "    s = input()\n",
        "    a=any(char.isalnum()for char in s)\n",
        "    b=any(char.isalpha()for char in s)\n",
        "    c=any(char.isdigit()for char in s)\n",
        "    d=any(char.islower()for char in s)\n",
        "    e=any(char.isupper()for char in s)\n",
        "    print(a)\n",
        "    print(b)\n",
        "    print(c)\n",
        "    print(d)\n",
        "    print(e)"
      ],
      "metadata": {
        "id": "iFPfvsYqPgdf"
      },
      "execution_count": null,
      "outputs": []
    },
    {
      "cell_type": "code",
      "source": [
        "thickness = int(input()) #This must be an odd number\n",
        "c = 'H'\n",
        "\n",
        "for i in range(thickness):\n",
        "    print((c*i).rjust(thickness-1)+c+(c*i).ljust(thickness-1))\n",
        "\n",
        "for i in range(thickness+1):\n",
        "    print((c*thickness).center(thickness*2)+(c*thickness).center(thickness*6))\n",
        "\n",
        "for i in range((thickness+1)//2):\n",
        "    print((c*thickness*5).center(thickness*6))    \n",
        "\n",
        "for i in range(thickness+1):\n",
        "    print((c*thickness).center(thickness*2)+(c*thickness).center(thickness*6))    \n",
        "\n",
        "for i in range(thickness):\n",
        "    print(((c*(thickness-i-1)).rjust(thickness)+c+(c*(thickness-i-1)).ljust(thickness)).rjust(thickness*6))"
      ],
      "metadata": {
        "id": "nuBgXigvRGlr"
      },
      "execution_count": null,
      "outputs": []
    },
    {
      "cell_type": "code",
      "source": [
        "def wrap(string, max_width):\n",
        "    return textwrap.fill(string,max_width)\n",
        "\n",
        "if __name__ == '__main__':\n",
        "    string, max_width = input(), int(input())\n",
        "    result = wrap(string, max_width)\n",
        "    print(result)"
      ],
      "metadata": {
        "id": "dSMiN055SZZa"
      },
      "execution_count": null,
      "outputs": []
    },
    {
      "cell_type": "code",
      "source": [
        "n,m = map(int,input().split())\n",
        "\n",
        "for i in range(n): \n",
        "    if ((i%2)==1): \n",
        "        print((\".|.\"*i).center(m , \"-\"))\n",
        "\n",
        "print(\"WELCOME\".center(m , \"-\"))\n",
        "\n",
        "for i in range(1,n): \n",
        "    if ((n-i)%2==1): \n",
        "        print((\".|.\"*(n-i)).center(m , \"-\"))"
      ],
      "metadata": {
        "id": "tqrUhL96TJhV"
      },
      "execution_count": null,
      "outputs": []
    },
    {
      "cell_type": "code",
      "source": [
        "def print_formatted(number):\n",
        "    maximum = len(str(bin(number)[2:]))\n",
        "    def format_string(item):\n",
        "        return str(item).upper().rjust(maximum,\" \")\n",
        "        \n",
        "    for i in range(1,number+1):\n",
        "        num = format_string(i)\n",
        "        octo = format_string(oct(i)[2:])\n",
        "        hexo = format_string(hex(i)[2:])\n",
        "        bino = format_string(bin(i)[2:])\n",
        "        print(f\"{num} {octo} {hexo} {bino}\")\n",
        "    \n",
        "if __name__ == '__main__':"
      ],
      "metadata": {
        "id": "IN1TOHU2WFS1"
      },
      "execution_count": null,
      "outputs": []
    },
    {
      "cell_type": "code",
      "source": [
        "def print_rangoli(size):\n",
        "    # your code goes here\n",
        "    import string\n",
        "    design = string.ascii_lowercase\n",
        "    L = []\n",
        "    for i in range(n):\n",
        "        s = \"-\".join(design[i:n])\n",
        "        L.append((s[::-1]+s[1:]).center(4*n-3, \"-\"))\n",
        "        \n",
        "    print('\\n'.join(L[:0:-1]+L))"
      ],
      "metadata": {
        "id": "O1GJpfjnXbd4"
      },
      "execution_count": null,
      "outputs": []
    },
    {
      "cell_type": "code",
      "source": [
        "def solve(s):\n",
        "    return \" \".join([name.capitalize() for name in s.split(\" \")])"
      ],
      "metadata": {
        "id": "bBR0o-uBYlIu"
      },
      "execution_count": null,
      "outputs": []
    },
    {
      "cell_type": "code",
      "source": [
        "vowels =\"AEIOU\"\n",
        "    vow_ctr=0\n",
        "    conso_ctr=0\n",
        "    i=0\n",
        "    n = len(string)\n",
        "    while (i<n):\n",
        "        if  string[i] in vowels:\n",
        "            vow_ctr += n-i\n",
        "        else:\n",
        "            conso_ctr += n-i\n",
        "        i+=1\n",
        "    \n",
        "    if vow_ctr>conso_ctr:\n",
        "        print (\"Kevin\",vow_ctr)\n",
        "    elif vow_ctr<conso_ctr :\n",
        "        print (\"Stuart\",conso_ctr)\n",
        "    else :\n",
        "         print(\"Draw\")    "
      ],
      "metadata": {
        "id": "QRx-OxLceUCw"
      },
      "execution_count": null,
      "outputs": []
    },
    {
      "cell_type": "code",
      "source": [
        "from textwrap import wrap\n",
        "def merge_the_tools(string, k):\n",
        "    ls = wrap(string, k)\n",
        "    for x in ls:\n",
        "        result = x[0]\n",
        "        for i in range(1,k): # k = len(x)\n",
        "            if x[i] not in result:\n",
        "                result += x[i]\n",
        "            else: \n",
        "                continue\n",
        "        print(result)"
      ],
      "metadata": {
        "id": "pcYsZrr4eVPW"
      },
      "execution_count": null,
      "outputs": []
    }
  ]
}