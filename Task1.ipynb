{
  "nbformat": 4,
  "nbformat_minor": 0,
  "metadata": {
    "colab": {
      "provenance": []
    },
    "kernelspec": {
      "name": "python3",
      "display_name": "Python 3"
    },
    "language_info": {
      "name": "python"
    }
  },
  "cells": [
    {
      "cell_type": "code",
      "execution_count": null,
      "metadata": {
        "id": "aj8ol9HrJ0bs"
      },
      "outputs": [],
      "source": [
        "print(\"Hello, World!\")"
      ]
    },
    {
      "cell_type": "code",
      "source": [
        "import math\n",
        "import os\n",
        "import random\n",
        "import re\n",
        "import sys\n",
        "\n",
        "\n",
        "\n",
        "n= int(input())\n",
        "if(n%2 != 0):\n",
        "    print(\"Weird\")\n",
        "else:    \n",
        "    if (n%2==0  and 2<= n <= 5):\n",
        "        print(\"Not Weird\")\n",
        "    if (n%2==0  and 6<= n <= 20):\n",
        "        print(\"Weird\")     \n",
        "    if (n%2==0  and n>20):\n",
        "        print(\"Not Weird\")    "
      ],
      "metadata": {
        "id": "kMhgQbWYJ4Zu"
      },
      "execution_count": null,
      "outputs": []
    },
    {
      "cell_type": "code",
      "source": [
        "if __name__ == '__main__':\n",
        "    a = int(input())\n",
        "    b = int(input())\n",
        "    print(a+b)\n",
        "    print(a-b)\n",
        "    print(a*b)"
      ],
      "metadata": {
        "id": "9sVpxvZyKCvd"
      },
      "execution_count": null,
      "outputs": []
    },
    {
      "cell_type": "code",
      "source": [
        "if __name__ == '__main__':\n",
        "    a = int(input())\n",
        "    b = int(input())\n",
        "    print(a//b)\n",
        "    print(a/b)"
      ],
      "metadata": {
        "id": "HC12fsFMKF5B"
      },
      "execution_count": null,
      "outputs": []
    },
    {
      "cell_type": "code",
      "source": [
        "if __name__ == '__main__':\n",
        "    n = int(input())\n",
        "    i=0\n",
        "    for i in range (n):\n",
        "        print(i*i)"
      ],
      "metadata": {
        "id": "r1aMuApFKK9t"
      },
      "execution_count": null,
      "outputs": []
    },
    {
      "cell_type": "code",
      "source": [
        "def is_leap(year):\n",
        "    leap = False\n",
        "    \n",
        "    if(year%400==0 or year%100!=0) and year%4==0:\n",
        "        leap=True\n",
        "    else:\n",
        "        leap=False\n",
        "    return leap \n",
        "\n",
        "\n",
        "\n",
        "year = int(input())\n",
        "print(is_leap(year))"
      ],
      "metadata": {
        "id": "3AzEmo6GKOnW"
      },
      "execution_count": null,
      "outputs": []
    },
    {
      "cell_type": "code",
      "source": [
        "if __name__ == '__main__':\n",
        "    n = int(input())    \n",
        "    for i in range (1,n+1):\n",
        "        print(i, end = \"\")"
      ],
      "metadata": {
        "id": "rWAZ6kYKKYDg"
      },
      "execution_count": null,
      "outputs": []
    }
  ]
}