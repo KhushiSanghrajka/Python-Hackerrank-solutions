{
  "nbformat": 4,
  "nbformat_minor": 0,
  "metadata": {
    "colab": {
      "provenance": []
    },
    "kernelspec": {
      "name": "python3",
      "display_name": "Python 3"
    },
    "language_info": {
      "name": "python"
    }
  },
  "cells": [
    {
      "cell_type": "code",
      "execution_count": null,
      "metadata": {
        "id": "Kd07AgeVsukA"
      },
      "outputs": [],
      "source": [
        "import re\n",
        "T= int(input())\n",
        "for i in range(T): \n",
        "    k = input()\n",
        "    print (bool(re.match(r'^[+-]?\\d*?\\.{1}\\d+$',k)))"
      ]
    },
    {
      "cell_type": "code",
      "source": [
        "regex_pattern = r'[\\,\\.]'\n",
        "import re\n",
        "print(\"\\n\".join(re.split(regex_pattern, input())"
      ],
      "metadata": {
        "id": "LOtvF_RRFKYt"
      },
      "execution_count": null,
      "outputs": []
    },
    {
      "cell_type": "code",
      "source": [
        "import re\n",
        "string = input()\n",
        "m = re.search(r'([a-zA-Z0-9])\\1+', string)\n",
        "if m:\n",
        "    print(m.group(1))\n",
        "else:\n",
        "    print(\"-1\")    "
      ],
      "metadata": {
        "id": "p52xD4ql94Ue"
      },
      "execution_count": null,
      "outputs": []
    },
    {
      "cell_type": "code",
      "source": [
        "import re\n",
        "sol=re.findall(r\"(?<=[QWRTYPSDFGHJKLZXCVBNMqwrtypsdfghjklzxcvbnm])[AEIOUaeiou]{2,}(?=[QWRTYPSDFGHJKLZXCVBNMqwrtypsdfghjklzxcvbnm])\", input())\n",
        "if sol:\n",
        "    print(*sol, sep=\"\\n\")\n",
        "else:\n",
        "    print(-1)"
      ],
      "metadata": {
        "id": "uxnjhhk-KXAQ"
      },
      "execution_count": null,
      "outputs": []
    },
    {
      "cell_type": "code",
      "source": [
        "s = input() \n",
        "k = input()\n",
        "import re\n",
        "\n",
        "pattern = re.compile(k)\n",
        "m=pattern.search(s)\n",
        "\n",
        "while m:\n",
        "    print((m.start(),m.end()-1))\n",
        "    m=pattern.search(s,m.start()+1)\n",
        "if not m:\n",
        "        print((-1,-1))    "
      ],
      "metadata": {
        "id": "Gmjt6KJtvSNd"
      },
      "execution_count": null,
      "outputs": []
    },
    {
      "cell_type": "code",
      "source": [
        "import re\n",
        "def substring(match):\n",
        "    if match.group(0)=='&& ':\n",
        "        return 'and '\n",
        "    if match.group(0)=='|| ':\n",
        "        return 'or '\n",
        "\n",
        "\n",
        "n=int(input())\n",
        "for i in range(n):\n",
        "    line=input()\n",
        "    print(re.sub(r'((?<= )\\&\\& )|((?<= )\\|\\| )', substring, line))"
      ],
      "metadata": {
        "id": "f3kQBSgNvUKF"
      },
      "execution_count": null,
      "outputs": []
    },
    {
      "cell_type": "code",
      "source": [
        "regex_pattern = r\"^M{0,3}(CM|CD|D?C{0,3})(XC|XL|L?X{0,3})(IX|IV|V?I{0,3})$\"\t# Do not delete 'r'.\n",
        "#numbers > 3999 are invalid. therefor M{0,3}\n",
        "import re\n",
        "print(str(bool(re.match(regex_pattern, input()))))"
      ],
      "metadata": {
        "id": "i89iUTl13FUl"
      },
      "execution_count": null,
      "outputs": []
    },
    {
      "cell_type": "code",
      "source": [
        "import re\n",
        "N = int(input())\n",
        "for _ in range(N):\n",
        "    str = input()\n",
        "    if re.match(r'^(7|8|9)\\d{9}$', str):\n",
        "        print('YES')\n",
        "    else:\n",
        "        print('NO')"
      ],
      "metadata": {
        "id": "R0q0u4zLS56-"
      },
      "execution_count": null,
      "outputs": []
    },
    {
      "cell_type": "code",
      "source": [
        "import re\n",
        "pattern = re.compile(r\"<[a-z][\\w.-]*@[a-z]+\\.[a-z]{1,3}>$\")\n",
        "n = int(input())\n",
        "for _ in range(n):\n",
        "    str, str1 = input().split()\n",
        "    if(re.match(pattern, str1)):\n",
        "        print(str, str1)\n",
        "    else:\n",
        "        continue    "
      ],
      "metadata": {
        "id": "CxCz4lt7W_I6"
      },
      "execution_count": null,
      "outputs": []
    },
    {
      "cell_type": "code",
      "source": [
        "import re\n",
        "n = int(input())\n",
        "for i in range(n):\n",
        "    s=input()\n",
        "    c=re.findall(r\"#[0-9a-fA-F]{6}|#[0-9a-fA-F]{3}\",s)\n",
        "    if(len(c)!=0 and s[0]!='#'):\n",
        "        for i in c:\n",
        "            print(i)"
      ],
      "metadata": {
        "id": "XOZyCnWKXm6M"
      },
      "execution_count": null,
      "outputs": []
    },
    {
      "cell_type": "code",
      "source": [
        "N=int(input())\n",
        "from html.parser import HTMLParser\n",
        "class html(HTMLParser):\n",
        "    def handle_starttag(self, tag, attrs):\n",
        "        print(f\"Start : {tag}\")\n",
        "        for name, value in attrs:\n",
        "            print(f\"-> {name} > {value}\")\n",
        "    def handle_endtag(self, tag):\n",
        "        print(f\"End   : {tag}\")\n",
        "    def handle_startendtag(self, tag, attrs):\n",
        "        print(f\"Empty : {tag}\")\n",
        "        for name, value in attrs:\n",
        "            print(f\"-> {name} > {value}\")\n",
        "parser = html()\n",
        "for _ in range(N):\n",
        "    parser.feed(input())"
      ],
      "metadata": {
        "id": "qoXMyq2MXnsO"
      },
      "execution_count": null,
      "outputs": []
    },
    {
      "cell_type": "code",
      "source": [
        "from html.parser import HTMLParser\n",
        "\n",
        "class MyHTMLParser(HTMLParser):\n",
        "        def handle_comment(self, data):\n",
        "                data = data.split('\\n')\n",
        "                if len(data) == 1:\n",
        "                    print('>>> Single-line Comment', *data, sep='\\n')\n",
        "                else:\n",
        "                    print('>>> Multi-line Comment', *data, sep='\\n')\n",
        "        def handle_data(self, data):\n",
        "                if data != \"\\n\":\n",
        "                    print(\">>> Data\", data, sep=\"\\n\")"
      ],
      "metadata": {
        "id": "iPV2iLcSZEGw"
      },
      "execution_count": null,
      "outputs": []
    },
    {
      "cell_type": "code",
      "source": [
        "from html.parser import HTMLParser\n",
        "\n",
        "class HTMLParser(HTMLParser):\n",
        "    def handle_starttag(self, tag, attrs):\n",
        "        print(tag)\n",
        "        if (len(attrs) > 0):\n",
        "            for attr in attrs:\n",
        "                print('->', attr[0], '>', attr[1])\n",
        "\n",
        "parser = HTMLParser()\n",
        "n=int(input())\n",
        "for i in range(n):\n",
        "    parser.feed(input())"
      ],
      "metadata": {
        "id": "YT0Jc3o_fhmL"
      },
      "execution_count": null,
      "outputs": []
    },
    {
      "cell_type": "code",
      "source": [
        "import re\n",
        "for _ in range(int(input())):\n",
        "    ID=input()\n",
        "    if len(set(list(ID.strip())))==10 and re.search(r\"([A-Za-z0-9]*[A-Z][A-Za-z0-9]*){2,}\",ID) and re.search(r\"([A-Za-z0-9]*\\d[A-Za-z0-9]*){3,}\",ID):\n",
        "                print(\"Valid\")\n",
        "    else:\n",
        "        print(\"Invalid\")"
      ],
      "metadata": {
        "id": "dbQUMD3lhpve"
      },
      "execution_count": null,
      "outputs": []
    },
    {
      "cell_type": "code",
      "source": [
        "import re\n",
        "pattern_a = r'([\\d])\\1{1}-?\\1{2}'\n",
        "pattern_b = r'^[456]\\d{3}-?\\d{4}-?\\d{4}-?\\d{4}-?'\n",
        "n = int(input())\n",
        "for i in range(n):\n",
        "    string = input()\n",
        "    if not bool(re.fullmatch(pattern_b,string)):\n",
        "        print ('Invalid')\n",
        "    elif bool(re.search(pattern_a, string)):\n",
        "        print ('Invalid')\n",
        "    else:\n",
        "        print ('Valid')"
      ],
      "metadata": {
        "id": "mwNfZAXijUk-"
      },
      "execution_count": null,
      "outputs": []
    },
    {
      "cell_type": "code",
      "source": [
        "regex_integer_in_range = r\"^[1-9]\\d{5}$\"\t# Do not delete 'r'.\n",
        "regex_alternating_repetitive_digit_pair = r\"(\\d)(?=.\\1)\"\t# Do not delete 'r'."
      ],
      "metadata": {
        "id": "9hzw28Chj_PM"
      },
      "execution_count": null,
      "outputs": []
    },
    {
      "cell_type": "code",
      "source": [
        "matrix = list(zip(*matrix))\n",
        "\n",
        "sample = str()\n",
        "\n",
        "for words in matrix:\n",
        "    for char in words:\n",
        "        sample += char\n",
        "       \n",
        "print(re.sub(r'(?<=\\w)([^\\w\\d]+)(?=\\w)', ' ', sample)) "
      ],
      "metadata": {
        "id": "njTaEu-pkAUM"
      },
      "execution_count": null,
      "outputs": []
    }
  ]
}